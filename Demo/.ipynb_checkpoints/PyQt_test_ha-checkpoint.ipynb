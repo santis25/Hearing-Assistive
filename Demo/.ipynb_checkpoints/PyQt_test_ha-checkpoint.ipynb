{
 "cells": [
  {
   "cell_type": "code",
   "execution_count": null,
   "metadata": {
    "collapsed": false
   },
   "outputs": [
    {
     "name": "stdout",
     "output_type": "stream",
     "text": [
      "whoooooaaa so custom!!\n"
     ]
    }
   ],
   "source": [
    "import sys\n",
    "from PyQt4 import QtGui , QtCore\n",
    "\n",
    "class Window(QtGui.QMainWindow):\n",
    "    \n",
    "    def __init__(self):    #template\n",
    "        super(Window, self).__init__()\n",
    "        self.setGeometry(50,50,500,300)\n",
    "        self.setWindowTitle(\"Hearing Assist\")\n",
    "        self.home()\n",
    "        \n",
    "    def home(self):              #view\n",
    "        btn = QtGui.QPushButton(\"Quit\", self)\n",
    "        btn.clicked.connect(self.close_application)\n",
    "        btn.resize(btn.sizeHint())\n",
    "        btn.move(100,100)\n",
    "        self.show()\n",
    "        \n",
    "    def close_application(self):   #method\n",
    "        print(\"whoooooaaa so custom!!\")\n",
    "        sys.exit()\n",
    "        \n",
    "def run():\n",
    "    app = QtGui.QApplication(sys.argv)\n",
    "    GUI = Window()\n",
    "    sys.exit(app.exec_())\n",
    "\n",
    "run()\n",
    "\n",
    "# def window():\n",
    "#     app = QtGui.QApplication(sys.argv)\n",
    "#     w = QtGui.QWidget()\n",
    "#     b = QtGui.QLabel(w)\n",
    "#     b.setText(\"Hello World!\")\n",
    "#     w.setGeometry(100,100,200,50)\n",
    "#     b.move(50,20)\n",
    "#     w.setWindowTitle(\"PyQt\")\n",
    "#     w.show()\n",
    "#     sys.exit(app.exec_())\n",
    "    \n",
    "# if __name__ == '__main__':\n",
    "#     window()"
   ]
  },
  {
   "cell_type": "code",
   "execution_count": null,
   "metadata": {
    "collapsed": true
   },
   "outputs": [],
   "source": []
  }
 ],
 "metadata": {
  "kernelspec": {
   "display_name": "Python 2",
   "language": "python",
   "name": "python2"
  },
  "language_info": {
   "codemirror_mode": {
    "name": "ipython",
    "version": 2
   },
   "file_extension": ".py",
   "mimetype": "text/x-python",
   "name": "python",
   "nbconvert_exporter": "python",
   "pygments_lexer": "ipython2",
   "version": "2.7.11"
  }
 },
 "nbformat": 4,
 "nbformat_minor": 0
}
