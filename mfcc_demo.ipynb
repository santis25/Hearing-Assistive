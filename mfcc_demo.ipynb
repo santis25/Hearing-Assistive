{
 "cells": [
  {
   "cell_type": "code",
   "execution_count": 1,
   "metadata": {
    "collapsed": false
   },
   "outputs": [],
   "source": [
    "from hearing_assistive import *\n",
    "\n",
    "%matplotlib inline"
   ]
  },
  {
   "cell_type": "markdown",
   "metadata": {},
   "source": [
    "# Get Mel-frequency Cepstrum Coefficients of One Power Spectrum"
   ]
  },
  {
   "cell_type": "code",
   "execution_count": 2,
   "metadata": {
    "collapsed": false
   },
   "outputs": [
    {
     "name": "stdout",
     "output_type": "stream",
     "text": [
      "wave length:\t\t1222895\n",
      "framerate:\t\t44100\n",
      "samples per 40ms:\t1764.0\n"
     ]
    }
   ],
   "source": [
    "wave = read_wave('Sounds/school_fire_alarm.wav')\n",
    "wave.normalize()\n",
    "print \"wave length:\\t\\t\", len(wave.ys)\n",
    "print \"framerate:\\t\\t\", wave.framerate\n",
    "print \"samples per 40ms:\\t\", 0.040 * 44100  # 40ms * 44100fps = samples per 40ms"
   ]
  },
  {
   "cell_type": "code",
   "execution_count": 3,
   "metadata": {
    "collapsed": false
   },
   "outputs": [
    {
     "name": "stdout",
     "output_type": "stream",
     "text": [
      "spectrum length: 883\n"
     ]
    }
   ],
   "source": [
    "specgram = wave.make_spectrogram(seg_length=1764)   # seg_length equals samples per 40ms\n",
    "spec = specgram.any_spectrum()\n",
    "print \"spectrum length:\", len(spec)   # FFT produces a spectrum that that is of length ((seg_length/2)+1)"
   ]
  },
  {
   "cell_type": "code",
   "execution_count": 4,
   "metadata": {
    "collapsed": false
   },
   "outputs": [
    {
     "name": "stdout",
     "output_type": "stream",
     "text": [
      "number of coefficients: 26\n"
     ]
    },
    {
     "data": {
      "text/plain": [
       "array([  1.78659386e+02,   5.14318205e+01,  -5.71630739e+01,\n",
       "        -5.41445529e+01,  -3.82090739e+01,  -6.69152000e+00,\n",
       "         5.36089240e+00,  -3.27911081e+00,  -1.12426769e+01,\n",
       "         7.42576930e+00,   5.34676487e-01,  -2.39323665e+01,\n",
       "        -1.62734290e-01,   6.44959582e+00,  -1.22527576e+01,\n",
       "        -5.84990378e+00,   2.94350606e+00,   6.08434687e+00,\n",
       "         3.88797926e+00,  -6.35199625e+00,   3.03768073e+00,\n",
       "         4.25083188e-01,  -5.87173340e+00,   1.82631192e+00,\n",
       "         2.56069651e+00,  -1.88256194e+00])"
      ]
     },
     "execution_count": 4,
     "metadata": {},
     "output_type": "execute_result"
    }
   ],
   "source": [
    "mfcc = spec.get_mfcc()   # DEFAULT: minHz=20, maxHz=22050, numFilters=26, blocksize=883\n",
    "print \"number of coefficients:\", len(mfcc)\n",
    "mfcc"
   ]
  },
  {
   "cell_type": "markdown",
   "metadata": {},
   "source": [
    "# Get Mel-frequency Cepstrum Coefficients of a 2.4 second Signal Segment"
   ]
  },
  {
   "cell_type": "code",
   "execution_count": 7,
   "metadata": {
    "collapsed": false
   },
   "outputs": [],
   "source": [
    "# partition the signal into segments\n",
    "i = 0\n",
    "j = int(2.4 * wave.framerate)  # frames per segment\n",
    "step = int(1.2 * wave.framerate)   # 50% overlap\n",
    "\n",
    "seg_map = []\n",
    "while j <= len(wave.ys):\n",
    "    segment = wave.slice(i, j)\n",
    "    seg_map.append(segment)\n",
    "    \n",
    "    i += step\n",
    "    j += step"
   ]
  },
  {
   "cell_type": "code",
   "execution_count": 6,
   "metadata": {
    "collapsed": false
   },
   "outputs": [
    {
     "name": "stdout",
     "output_type": "stream",
     "text": [
      "feature: (119, 13)\n"
     ]
    },
    {
     "data": {
      "text/plain": [
       "array([[ 86.61695366, -17.58698986,  11.31597584, ...,   4.07546378,\n",
       "         -6.18295076,   1.10610639],\n",
       "       [ 92.30659982, -14.18874823,  12.27583295, ...,   2.35546711,\n",
       "         -6.62193163,  -1.2888807 ],\n",
       "       [ 92.53453344, -12.69961891,   9.44029442, ...,  -0.94892583,\n",
       "         -7.42198853,  -1.48660363],\n",
       "       ..., \n",
       "       [ 38.30741907, -42.89928271, -56.93073458, ..., -31.04254507,\n",
       "         -2.6477094 ,   0.78491477],\n",
       "       [ 33.46646192, -47.02220423, -64.20658178, ..., -32.22414613,\n",
       "         -3.71474885,   0.85086714],\n",
       "       [ 31.02726709, -53.54594036, -65.33080184, ..., -27.92392564,\n",
       "         -3.82939198,  -2.57780972]])"
      ]
     },
     "execution_count": 6,
     "metadata": {},
     "output_type": "execute_result"
    }
   ],
   "source": [
    "signal = seg_map[0]   # take the first segment\n",
    "spectrogram = signal.make_spectrogram(seg_length=1764)   # seg_length equals samples per 40ms\n",
    "feature = spectrogram.mfcc()   # use default parameter, only include coefficients 2-14 (13 coefficients)\n",
    "\n",
    "print \"feature:\", feature.shape\n",
    "feature"
   ]
  },
  {
   "cell_type": "code",
   "execution_count": null,
   "metadata": {
    "collapsed": true
   },
   "outputs": [],
   "source": []
  }
 ],
 "metadata": {
  "kernelspec": {
   "display_name": "Python 2",
   "language": "python",
   "name": "python2"
  },
  "language_info": {
   "codemirror_mode": {
    "name": "ipython",
    "version": 2
   },
   "file_extension": ".py",
   "mimetype": "text/x-python",
   "name": "python",
   "nbconvert_exporter": "python",
   "pygments_lexer": "ipython2",
   "version": "2.7.11"
  }
 },
 "nbformat": 4,
 "nbformat_minor": 0
}
