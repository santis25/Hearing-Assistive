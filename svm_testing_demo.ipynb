{
 "cells": [
  {
   "cell_type": "code",
   "execution_count": 1,
   "metadata": {
    "collapsed": true
   },
   "outputs": [],
   "source": [
    "from hearing_assistive import *\n",
    "from sklearn.externals import joblib\n",
    "import numpy as np\n",
    "\n",
    "%matplotlib inline"
   ]
  },
  {
   "cell_type": "markdown",
   "metadata": {
    "collapsed": true
   },
   "source": [
    "# Load Classifier"
   ]
  },
  {
   "cell_type": "code",
   "execution_count": 2,
   "metadata": {
    "collapsed": true
   },
   "outputs": [],
   "source": [
    "clf = joblib.load('SVC/svc.pk1')"
   ]
  },
  {
   "cell_type": "markdown",
   "metadata": {
    "collapsed": true
   },
   "source": [
    "# Create Testset and Test Classifier"
   ]
  },
  {
   "cell_type": "code",
   "execution_count": 3,
   "metadata": {
    "collapsed": false
   },
   "outputs": [],
   "source": [
    "alarm = read_wave('Sounds/school_fire_alarm.wav')\n",
    "alarm_seg_map = alarm.partition()   # default, 2.4 second segments\n",
    "alarm_seg1 = alarm_seg_map[7]\n",
    "alarm_seg2 = alarm_seg_map[10]\n",
    "\n",
    "tones = read_wave('Sounds/plectron_tones.wav')\n",
    "tones_seg_map = tones.partition()   # default, 2.4 second segments\n",
    "tones_seg1 = tones_seg_map[6]\n",
    "tones_seg2 = tones_seg_map[5]"
   ]
  },
  {
   "cell_type": "code",
   "execution_count": 4,
   "metadata": {
    "collapsed": false
   },
   "outputs": [
    {
     "name": "stdout",
     "output_type": "stream",
     "text": [
      "Test # \t\tAccuracy (%)\n",
      "------------------------------\n",
      "Test 0 \t:\t91.6666666667\n",
      "Test 1 \t:\t95.0\n",
      "Test 2 \t:\t95.0\n",
      "Test 3 \t:\t95.0\n",
      "Test 4 \t:\t98.3333333333\n",
      "Test 5 \t:\t93.3333333333\n",
      "Test 6 \t:\t93.3333333333\n",
      "Test 7 \t:\t95.0\n",
      "Test 8 \t:\t91.6666666667\n",
      "Test 9 \t:\t93.3333333333\n",
      "------------------------------\n",
      "Average:\t94.1666666667\n"
     ]
    }
   ],
   "source": [
    "# With Noise intensity 0.01-0.02\n",
    "\n",
    "print \"Test # \\t\\tAccuracy (%)\"\n",
    "print \"------------------------------\"\n",
    "\n",
    "cases = 10\n",
    "total = 0\n",
    "for case in range(cases):\n",
    "    testset = []\n",
    "    expected = []\n",
    "\n",
    "    # add alarm sound files to the testset\n",
    "    for i in range(30):\n",
    "        segment = alarm_seg_map[7]\n",
    "        segment = apply_filter(segment)\n",
    "        spectrogram = segment.make_spectrogram(seg_length=1764)  # 1764 = 40ms * 44100fps = samples per 40ms\n",
    "        dummyset = spectrogram.mfcc()   # use default parameter, only include coefficients 2-14 (13 coefficients)\n",
    "        testset.append(dummyset)\n",
    "        expected.append(3)\n",
    "\n",
    "    # # add tones sound files to the testset\n",
    "    for i in range(30):\n",
    "        segment = tones_seg_map[6]\n",
    "        segment = apply_filter(segment)\n",
    "        spectrogram = segment.make_spectrogram(seg_length=1764)  # 1764 = 40ms * 44100fps = samples per 40ms\n",
    "        dummyset = spectrogram.mfcc()   # use default parameter, only include coefficients 2-14 (13 coefficients)\n",
    "        testset.append(dummyset)\n",
    "        expected.append(4)\n",
    "\n",
    "    # convert to numpy array\n",
    "    testset = np.asarray(testset)\n",
    "\n",
    "    # restructure testset before being processed by svm\n",
    "    testset = testset.reshape((testset.shape[0], -1))\n",
    "    \n",
    "    actual = list(clf.predict(testset))\n",
    "    acc = clf_accuracy(expected, actual)\n",
    "    total += acc\n",
    "    print \"Test\", case, \"\\t:\\t\", acc\n",
    "    \n",
    "avg = total/cases\n",
    "print \"------------------------------\"\n",
    "print \"Average:\\t\", avg"
   ]
  },
  {
   "cell_type": "code",
   "execution_count": 5,
   "metadata": {
    "collapsed": false
   },
   "outputs": [
    {
     "name": "stdout",
     "output_type": "stream",
     "text": [
      "Test # \t\tAccuracy (%)\n",
      "------------------------------\n",
      "Test 0 \t:\t76.6666666667\n",
      "Test 1 \t:\t71.6666666667\n",
      "Test 2 \t:\t76.6666666667\n",
      "Test 3 \t:\t85.0\n",
      "Test 4 \t:\t60.0\n",
      "Test 5 \t:\t71.6666666667\n",
      "Test 6 \t:\t78.3333333333\n",
      "Test 7 \t:\t68.3333333333\n",
      "Test 8 \t:\t76.6666666667\n",
      "Test 9 \t:\t76.6666666667\n",
      "------------------------------\n",
      "Average:\t74.1666666667\n"
     ]
    }
   ],
   "source": [
    "# With Noise intensity 0.02-0.04\n",
    "\n",
    "print \"Test # \\t\\tAccuracy (%)\"\n",
    "print \"------------------------------\"\n",
    "\n",
    "cases = 10\n",
    "total = 0\n",
    "for case in range(cases):\n",
    "    testset = []\n",
    "    expected = []\n",
    "\n",
    "    # add alarm sound files to the testset\n",
    "    for i in range(30):\n",
    "        segment = alarm_seg_map[7]\n",
    "        segment = apply_filter(segment, factor=2)\n",
    "    #     segment.plot()\n",
    "        spectrogram = segment.make_spectrogram(seg_length=1764)  # 1764 = 40ms * 44100fps = samples per 40ms\n",
    "        dummyset = spectrogram.mfcc()   # use default parameter, only include coefficients 2-14 (13 coefficients)\n",
    "        testset.append(dummyset)\n",
    "        expected.append(3)\n",
    "\n",
    "    # # add tones sound files to the testset\n",
    "    for i in range(30):\n",
    "        segment = tones_seg_map[6]\n",
    "        segment = apply_filter(segment, factor=2)\n",
    "    #     segment.plot()\n",
    "        spectrogram = segment.make_spectrogram(seg_length=1764)  # 1764 = 40ms * 44100fps = samples per 40ms\n",
    "        dummyset = spectrogram.mfcc()   # use default parameter, only include coefficients 2-14 (13 coefficients)\n",
    "        testset.append(dummyset)\n",
    "        expected.append(4)\n",
    "\n",
    "    # convert to numpy array\n",
    "    testset = np.asarray(testset)\n",
    "\n",
    "    # restructure testset before being processed by svm\n",
    "    testset = testset.reshape((testset.shape[0], -1))\n",
    "    \n",
    "    actual = list(clf.predict(testset))\n",
    "    # print \"extected: \\t\", expected\n",
    "    # print \"actual: \\t\", actual\n",
    "    acc = clf_accuracy(expected, actual)\n",
    "    total += acc\n",
    "    print \"Test\", case, \"\\t:\\t\", acc\n",
    "    \n",
    "avg = total/cases\n",
    "print \"------------------------------\"\n",
    "print \"Average:\\t\", avg"
   ]
  },
  {
   "cell_type": "code",
   "execution_count": null,
   "metadata": {
    "collapsed": true
   },
   "outputs": [],
   "source": [
    "# NOTES:\n",
    "# When the test set does not include added noise, classifier is 100% accurate\n",
    "# However, when noise is added, results may be as low as 95% if noise ranges (0.001, 0.002)\n",
    "# Results may be as low as 85% if noise ranges (0.01, 0.02)\n",
    "# And results may be as low as 65% if noise ranges (0.1, 0.2)"
   ]
  }
 ],
 "metadata": {
  "kernelspec": {
   "display_name": "Python 2",
   "language": "python",
   "name": "python2"
  },
  "language_info": {
   "codemirror_mode": {
    "name": "ipython",
    "version": 2
   },
   "file_extension": ".py",
   "mimetype": "text/x-python",
   "name": "python",
   "nbconvert_exporter": "python",
   "pygments_lexer": "ipython2",
   "version": "2.7.11"
  }
 },
 "nbformat": 4,
 "nbformat_minor": 0
}
