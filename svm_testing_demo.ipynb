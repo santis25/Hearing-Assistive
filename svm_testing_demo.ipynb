{
 "cells": [
  {
   "cell_type": "code",
   "execution_count": 1,
   "metadata": {
    "collapsed": false
   },
   "outputs": [],
   "source": [
    "# Testing SVC with live audio data\n",
    "\n",
    "from hearing_assistive import *\n",
    "from sklearn.externals import joblib\n",
    "import numpy as np\n",
    "\n",
    "%matplotlib inline"
   ]
  },
  {
   "cell_type": "markdown",
   "metadata": {},
   "source": [
    "# Load SVM Classifier"
   ]
  },
  {
   "cell_type": "code",
   "execution_count": 2,
   "metadata": {
    "collapsed": true
   },
   "outputs": [],
   "source": [
    "clf = joblib.load('SVC/svc_v2.pk1')"
   ]
  },
  {
   "cell_type": "markdown",
   "metadata": {},
   "source": [
    "# Generate Test Data"
   ]
  },
  {
   "cell_type": "code",
   "execution_count": 3,
   "metadata": {
    "collapsed": false
   },
   "outputs": [
    {
     "name": "stdout",
     "output_type": "stream",
     "text": [
      "7\n"
     ]
    }
   ],
   "source": [
    "alarm = read_wave('Sounds/Output/LiveFireAlarm/live_fire_alarm_test.wav')\n",
    "alarm_map = alarm.partition(seg_length=3)\n",
    "print len(alarm_map)\n",
    "\n",
    "seg0 = (alarm_map[1], 1)\n",
    "seg1 = (alarm_map[2], 1)\n",
    "seg2 = (alarm_map[3], 1)\n",
    "seg3 = (alarm_map[4], 1)"
   ]
  },
  {
   "cell_type": "code",
   "execution_count": 4,
   "metadata": {
    "collapsed": false
   },
   "outputs": [
    {
     "name": "stdout",
     "output_type": "stream",
     "text": [
      "7\n"
     ]
    }
   ],
   "source": [
    "empty = read_wave('Sounds/Output/Empty/empty_test.wav')\n",
    "empty_map = empty.partition(seg_length=3)\n",
    "print len(empty_map)\n",
    "\n",
    "seg4 = (empty_map[0], 0)\n",
    "seg5 = (empty_map[1], 0)\n",
    "seg6 = (empty_map[2], 0)\n",
    "seg7 = (empty_map[3], 0)"
   ]
  },
  {
   "cell_type": "code",
   "execution_count": 5,
   "metadata": {
    "collapsed": false
   },
   "outputs": [],
   "source": [
    "seg_list = [seg0, seg1, seg2, seg3, seg4, seg5, seg6, seg7]"
   ]
  },
  {
   "cell_type": "code",
   "execution_count": 6,
   "metadata": {
    "collapsed": false
   },
   "outputs": [
    {
     "name": "stdout",
     "output_type": "stream",
     "text": [
      "(40, 149, 26)\n"
     ]
    }
   ],
   "source": [
    "# generate testset and expected set\n",
    "testset, expected = generate_testset(seg_list)\n",
    "\n",
    "# convert to numpy array\n",
    "testset = np.asarray(testset)\n",
    "\n",
    "print testset.shape\n",
    "\n",
    "# restructure testset before being processed by svm\n",
    "testset = testset.reshape((testset.shape[0], -1))"
   ]
  },
  {
   "cell_type": "markdown",
   "metadata": {},
   "source": [
    "# Test SVM Classifier"
   ]
  },
  {
   "cell_type": "code",
   "execution_count": 7,
   "metadata": {
    "collapsed": false
   },
   "outputs": [
    {
     "name": "stdout",
     "output_type": "stream",
     "text": [
      "[0, 1, 1, 0, 1, 0, 0, 0, 0, 1, 1, 0, 1, 0, 0, 1, 0, 0, 1, 0, 1, 1, 0, 0, 0, 1, 1, 0, 1, 1, 1, 1, 1, 0, 1, 0, 1, 1, 1, 0]\n",
      "[0, 1, 1, 0, 1, 0, 0, 0, 0, 1, 1, 0, 1, 0, 0, 1, 0, 0, 1, 0, 1, 1, 0, 0, 0, 1, 1, 0, 1, 1, 1, 1, 1, 0, 1, 0, 1, 1, 1, 0]\n"
     ]
    }
   ],
   "source": [
    "actual = list(clf.predict(testset))\n",
    "\n",
    "print expected\n",
    "print actual"
   ]
  },
  {
   "cell_type": "code",
   "execution_count": 8,
   "metadata": {
    "collapsed": false
   },
   "outputs": [
    {
     "name": "stdout",
     "output_type": "stream",
     "text": [
      "Accuracy 100.000000 %\n"
     ]
    }
   ],
   "source": [
    "acc = clf_accuracy(expected, actual)\n",
    "print \"Accuracy %f\" % acc + \" %\""
   ]
  },
  {
   "cell_type": "code",
   "execution_count": null,
   "metadata": {
    "collapsed": true
   },
   "outputs": [],
   "source": []
  }
 ],
 "metadata": {
  "kernelspec": {
   "display_name": "Python 2",
   "language": "python",
   "name": "python2"
  },
  "language_info": {
   "codemirror_mode": {
    "name": "ipython",
    "version": 2
   },
   "file_extension": ".py",
   "mimetype": "text/x-python",
   "name": "python",
   "nbconvert_exporter": "python",
   "pygments_lexer": "ipython2",
   "version": "2.7.11"
  }
 },
 "nbformat": 4,
 "nbformat_minor": 0
}
