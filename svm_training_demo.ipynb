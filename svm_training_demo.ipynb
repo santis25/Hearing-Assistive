{
 "cells": [
  {
   "cell_type": "code",
   "execution_count": 1,
   "metadata": {
    "collapsed": false
   },
   "outputs": [],
   "source": [
    "# Training SVC with live audio data\n",
    "\n",
    "from hearing_assistive import *\n",
    "%matplotlib inline"
   ]
  },
  {
   "cell_type": "markdown",
   "metadata": {},
   "source": [
    "# Get Silence Wave"
   ]
  },
  {
   "cell_type": "code",
   "execution_count": 2,
   "metadata": {
    "collapsed": false
   },
   "outputs": [],
   "source": [
    "empty_map = []\n",
    "for i in range(6):\n",
    "    empty = read_wave('Sounds/Output/Empty/empty0' + str(i) + '.wav')\n",
    "    temp = empty.partition(seg_length=3)\n",
    "    empty_map += temp\n",
    "    \n",
    "empty = read_wave('Sounds/Output/Silent_audio.wav')\n",
    "temp = empty.partition(seg_length=3)\n",
    "empty_map += temp"
   ]
  },
  {
   "cell_type": "markdown",
   "metadata": {},
   "source": [
    "# Get Alarm Wave"
   ]
  },
  {
   "cell_type": "code",
   "execution_count": 3,
   "metadata": {
    "collapsed": false,
    "scrolled": true
   },
   "outputs": [],
   "source": [
    "alarm_map = []\n",
    "for i in range(6):\n",
    "    alarm = read_wave('Sounds/Output/LiveFireAlarm/live_fire_alarm0' + str(i) + '.wav')\n",
    "    temp = alarm.partition(seg_length=3)\n",
    "    alarm_map += temp\n",
    "    \n",
    "alarm = read_wave('Sounds/Output/FireAlarm_audio.wav')\n",
    "temp = alarm.partition(seg_length=3)\n",
    "alarm_map += temp\n",
    "\n",
    "alarm = read_wave('Sounds/Output/bing_alarm.wav')\n",
    "clip = alarm.segment(0, 7)\n",
    "temp = clip.partition(seg_length=3)\n",
    "alarm_map += temp\n",
    "\n",
    "clip = alarm.segment(9, 11)\n",
    "temp = clip.partition(seg_length=3)\n",
    "alarm_map += temp\n",
    "\n",
    "clip = alarm.segment(23, 10)\n",
    "temp = clip.partition(seg_length=3)\n",
    "alarm_map += temp\n",
    "\n",
    "clip = alarm.segment(35, 12)\n",
    "temp = clip.partition(seg_length=3)\n",
    "alarm_map += temp"
   ]
  },
  {
   "cell_type": "markdown",
   "metadata": {},
   "source": [
    "# Extract Features and Generate Training Set"
   ]
  },
  {
   "cell_type": "code",
   "execution_count": 4,
   "metadata": {
    "collapsed": false
   },
   "outputs": [
    {
     "name": "stdout",
     "output_type": "stream",
     "text": [
      "Extracting Alarm Features...\n",
      "100 %\n",
      "Extracting Empty Features...\n",
      "100 %\n",
      "(2300, 149, 26)\n"
     ]
    }
   ],
   "source": [
    "import sys\n",
    "import math\n",
    "\n",
    "dataset = []\n",
    "targetset = []\n",
    "\n",
    "progress = 0.0\n",
    "print \"Extracting Alarm Features...\"\n",
    "for i in range(len(alarm_map)):\n",
    "    new_dataset, new_targetset = generate_feature_set(alarm_map[i], 1)\n",
    "    dataset, targetset = append_set(dataset, targetset, new_dataset, new_targetset)\n",
    "    progress += (100.0 / len(alarm_map))\n",
    "    sys.stdout.write('\\r' + str(int(round(progress))) + ' %')   # show progress\n",
    "\n",
    "progress = 0.0\n",
    "print \"\\nExtracting Empty Features...\"\n",
    "for i in range(len(empty_map)):\n",
    "    new_dataset, new_targetset = generate_feature_set(empty_map[i], 0)\n",
    "    dataset, targetset = append_set(dataset, targetset, new_dataset, new_targetset)\n",
    "    progress += (100.0 / len(empty_map))\n",
    "    sys.stdout.write('\\r' + str(int(round(progress))) + ' %')   # show progress\n",
    "    \n",
    "dataset = np.asarray(dataset)\n",
    "targetset = np.asarray(targetset)\n",
    "\n",
    "print '\\n', dataset.shape\n",
    "\n",
    "dataset = dataset.reshape((dataset.shape[0], -1))"
   ]
  },
  {
   "cell_type": "markdown",
   "metadata": {},
   "source": [
    "# Train SVM Classifier"
   ]
  },
  {
   "cell_type": "code",
   "execution_count": 5,
   "metadata": {
    "collapsed": false
   },
   "outputs": [
    {
     "data": {
      "text/plain": [
       "['SVC/svc_v2.pk1',\n",
       " 'SVC/svc_v2.pk1_01.npy',\n",
       " 'SVC/svc_v2.pk1_02.npy',\n",
       " 'SVC/svc_v2.pk1_03.npy',\n",
       " 'SVC/svc_v2.pk1_04.npy',\n",
       " 'SVC/svc_v2.pk1_05.npy',\n",
       " 'SVC/svc_v2.pk1_06.npy',\n",
       " 'SVC/svc_v2.pk1_07.npy',\n",
       " 'SVC/svc_v2.pk1_08.npy',\n",
       " 'SVC/svc_v2.pk1_09.npy',\n",
       " 'SVC/svc_v2.pk1_10.npy',\n",
       " 'SVC/svc_v2.pk1_11.npy']"
      ]
     },
     "execution_count": 5,
     "metadata": {},
     "output_type": "execute_result"
    }
   ],
   "source": [
    "from sklearn import svm\n",
    "from sklearn.externals import joblib\n",
    "\n",
    "clf = svm.SVC(kernel='linear', C=100)\n",
    "clf.fit(dataset, targetset)\n",
    "\n",
    "joblib.dump(clf, 'SVC/svc_v2.pk1')"
   ]
  },
  {
   "cell_type": "code",
   "execution_count": 6,
   "metadata": {
    "collapsed": true
   },
   "outputs": [],
   "source": [
    "# NOTE:\n",
    "\n",
    "# 40ms windows are better\n",
    "# 26/26 mfccs are better\n",
    "# kernel='linear' is better"
   ]
  },
  {
   "cell_type": "code",
   "execution_count": null,
   "metadata": {
    "collapsed": true
   },
   "outputs": [],
   "source": []
  }
 ],
 "metadata": {
  "kernelspec": {
   "display_name": "Python 2",
   "language": "python",
   "name": "python2"
  },
  "language_info": {
   "codemirror_mode": {
    "name": "ipython",
    "version": 2
   },
   "file_extension": ".py",
   "mimetype": "text/x-python",
   "name": "python",
   "nbconvert_exporter": "python",
   "pygments_lexer": "ipython2",
   "version": "2.7.11"
  }
 },
 "nbformat": 4,
 "nbformat_minor": 0
}
